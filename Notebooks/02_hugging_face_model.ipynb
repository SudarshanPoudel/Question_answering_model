{
 "cells": [
  {
   "cell_type": "markdown",
   "metadata": {},
   "source": [
    "### Import libraries"
   ]
  },
  {
   "cell_type": "code",
   "execution_count": 1,
   "metadata": {},
   "outputs": [
    {
     "name": "stderr",
     "output_type": "stream",
     "text": [
      "/home/sudarshan/anaconda3/envs/myenv/lib/python3.12/site-packages/tqdm/auto.py:21: TqdmWarning: IProgress not found. Please update jupyter and ipywidgets. See https://ipywidgets.readthedocs.io/en/stable/user_install.html\n",
      "  from .autonotebook import tqdm as notebook_tqdm\n"
     ]
    }
   ],
   "source": [
    "import torch\n",
    "import torch.nn.functional as F\n",
    "from transformers import AutoTokenizer, AutoModelForQuestionAnswering"
   ]
  },
  {
   "cell_type": "markdown",
   "metadata": {},
   "source": [
    "### Load model"
   ]
  },
  {
   "cell_type": "code",
   "execution_count": 2,
   "metadata": {},
   "outputs": [],
   "source": [
    "# Load the tokenizer and model\n",
    "tokenizer = AutoTokenizer.from_pretrained(\"deepset/roberta-base-squad2\")\n",
    "model = AutoModelForQuestionAnswering.from_pretrained(\"deepset/roberta-base-squad2\")"
   ]
  },
  {
   "cell_type": "markdown",
   "metadata": {},
   "source": [
    "### QA function"
   ]
  },
  {
   "cell_type": "code",
   "execution_count": 3,
   "metadata": {},
   "outputs": [],
   "source": [
    "def getAnswer(question:str, context:str)-> str: \n",
    "    # Tokenize the input\n",
    "    inputs = tokenizer.encode_plus(question, context, return_tensors=\"pt\")\n",
    "\n",
    "    # Get the input IDs and attention mask\n",
    "    input_ids = inputs[\"input_ids\"]\n",
    "    attention_mask = inputs[\"attention_mask\"]\n",
    "\n",
    "    # Get the start and end scores for the answer\n",
    "    outputs = model(input_ids, attention_mask=attention_mask)\n",
    "\n",
    "    start_scores = outputs.start_logits\n",
    "    end_scores = outputs.end_logits\n",
    "\n",
    "    # Apply softmax to get probabilities\n",
    "    start_probs = F.softmax(start_scores, dim=1).tolist()[0]\n",
    "    end_probs = F.softmax(end_scores, dim=1).tolist()[0]\n",
    "\n",
    "    # Get the most likely beginning and end of the answer span\n",
    "    start_index = torch.argmax(start_scores)\n",
    "    end_index = torch.argmax(end_scores)\n",
    "\n",
    "    # Convert token ids to string\n",
    "    tokens = input_ids[0][start_index : end_index + 1]\n",
    "    answer = tokenizer.decode(tokens, skip_special_tokens=True)\n",
    "\n",
    "    # Certainty of answer\n",
    "    prob_score = (start_probs[start_index] + end_probs[end_index]) / 2\n",
    "\n",
    "    return {\n",
    "        'answer': answer,\n",
    "        'prob_score' : prob_score\n",
    "    }"
   ]
  },
  {
   "cell_type": "markdown",
   "metadata": {},
   "source": [
    "### Testing"
   ]
  },
  {
   "cell_type": "code",
   "execution_count": 4,
   "metadata": {},
   "outputs": [
    {
     "name": "stdout",
     "output_type": "stream",
     "text": [
      "Question: What was the goal of the Apollo program?\n",
      "Answer:  landing the first humans on the Moon\n"
     ]
    }
   ],
   "source": [
    "# Define the context and question\n",
    "context = \"\"\"\n",
    "The Apollo program was the third United States human spaceflight program carried out by the National Aeronautics and Space Administration (NASA),\n",
    "which accomplished landing the first humans on the Moon from 1969 to 1972. First conceived during Dwight D. Eisenhower's administration as a three-person spacecraft\n",
    "to follow the one-person Project Mercury which put the first Americans in space, Apollo was later dedicated to President John F. Kennedy's national goal of\n",
    "\"landing a man on the Moon and returning him safely to the Earth\" by the end of the 1960s, which he proposed in an address to Congress on May 25, 1961.\n",
    "\"\"\"\n",
    "\n",
    "question = \"What was the goal of the Apollo program?\"\n",
    "\n",
    "\n",
    "# Print the result\n",
    "print(f\"Question: {question}\")\n",
    "print(f\"Answer: {getAnswer(question=question, context=context)['answer']}\")\n"
   ]
  },
  {
   "cell_type": "markdown",
   "metadata": {},
   "source": [
    "### PDF reader"
   ]
  },
  {
   "cell_type": "code",
   "execution_count": 3,
   "metadata": {},
   "outputs": [],
   "source": [
    "import PyPDF2"
   ]
  },
  {
   "cell_type": "code",
   "execution_count": 4,
   "metadata": {},
   "outputs": [],
   "source": [
    "reader = PyPDF2.PdfReader('../PDFs/context.pdf')"
   ]
  },
  {
   "cell_type": "code",
   "execution_count": 5,
   "metadata": {},
   "outputs": [
    {
     "data": {
      "text/plain": [
       "PyPDF2._reader.PdfReader"
      ]
     },
     "execution_count": 5,
     "metadata": {},
     "output_type": "execute_result"
    }
   ],
   "source": [
    "type(reader)"
   ]
  },
  {
   "cell_type": "code",
   "execution_count": 7,
   "metadata": {},
   "outputs": [
    {
     "data": {
      "text/plain": [
       "'Unit 1\\nIntroduction to Cryptography\\nCryptography\\nCryptography\\xa0is technique  of securing information  and communications  through use of\\ncodes so that only those person for whom the information is intended can understand it and\\nprocess it. Thus, preventing unauthorized access to information is known as cryptography.\\nThe prefix “crypt” means “hidden” and suffix graphy means “writing”.\\n1.In Cryptography, the techniques, which are used to protect information, are obtained\\nfrom  mathematical  concepts  and  a  set  of  rule  based  calculations  known  as\\nalgorithms to convert messages in ways that make it hard to decode it. \\n2.Algorithms are used for cryptographic key generation, digital signing, verification to\\nprotect  data  privacy,  web  browsing  on  internet  and  to  protect  confidential\\ntransactions such as credit card and debit card transactions.\\n3.Cryptography is associated with the process of converting ordinary plain text into\\nunintelligible text and vice-versa. \\n4.It is a method of storing and transmitting data in a particular form so that only those for\\nwhom it is intended can read and process it. \\n5.Cryptography not only protects data from theft or alteration, but can also be used for\\nuser authentication.\\n6.Cryptography is the science to encrypt and decrypt data that enables the users to store\\nsensitive information or transmit it across insecure networks so that it can be read\\nonly by the intended recipient.\\n7.Data  which  can  be  read  and  understood  without  any  special  measures  is\\ncalled\\xa0plaintext, while the method of disguising (cover up) plaintext in order to hide\\nits substance is called \\xa0encryption.\\n8.Encrypted plaintext is known as cipher text and process of reverting the encrypted\\ndata back to plain text is known as \\xa0decryption.\\n9.The  science  of  analysing  and  breaking  secure  communication  is  known  as\\ncryptanalysis. The people who perform the same also known as attackers.\\n10.Cryptography can be either strong or weak and the strength is measured by the time\\nand resources it would require to recover the actual plaintext.\\n11.Hence an appropriate  decoding  tool is required  to decipher the strong encrypted\\nmessages.\\n12.As the computing power is increasing day by day, one has to make the encryption\\nalgorithms  very strong in order to protect data and critical  information from the\\nattackers.\\nComputer security \\nComputer security  is the protection that is set up for computer systems and keeps critical\\ninformation from unauthorized access, theft, or misuse.  It\\xa0is the process of preventing and\\ndetecting unauthorized use of our computer system.  Computer security \\xa0can be defined as'"
      ]
     },
     "execution_count": 7,
     "metadata": {},
     "output_type": "execute_result"
    }
   ],
   "source": [
    "reader.pages[0].extract_text()"
   ]
  },
  {
   "cell_type": "code",
   "execution_count": 8,
   "metadata": {},
   "outputs": [],
   "source": [
    "pdf_context = ''\n",
    "\n",
    "for page in reader.pages:\n",
    "    pdf_context += page.extract_text()"
   ]
  },
  {
   "cell_type": "code",
   "execution_count": 9,
   "metadata": {},
   "outputs": [
    {
     "data": {
      "text/plain": [
       "'Unit 1\\nIntroduction to Cryptography\\nCryptography\\nCryptography\\xa0is technique  of securing information  and communications  through use of\\ncodes so that only those person for whom the information is intended can understand it and\\nprocess it. Thus, preventing unauthorized access to information is known as cryptography.\\nThe prefix “crypt” means “hidden” and suffix graphy means “writing”.\\n1.In Cryptography, the techniques, which are used to protect information, are obtained\\nfrom  mathematical  concepts  and  a  set  of  rule  based  calculations  known  as\\nalgorithms to convert messages in ways that make it hard to decode it. \\n2.Algorithms are used for cryptographic key generation, digital signing, verification to\\nprotect  data  privacy,  web  browsing  on  internet  and  to  protect  confidential\\ntransactions such as credit card and debit card transactions.\\n3.Cryptography is associated with the process of converting ordinary plain text into\\nunintelligible text and vice-versa. \\n4.It is a method of storing and transmitting data in a particular form so that only those for\\nwhom it is intended can read and process it. \\n5.Cryptography not only protects data from theft or alteration, but can also be used for\\nuser authentication.\\n6.Cryptography is the science to encrypt and decrypt data that enables the users to store\\nsensitive information or transmit it across insecure networks so that it can be read\\nonly by the intended recipient.\\n7.Data  which  can  be  read  and  understood  without  any  special  measures  is\\ncalled\\xa0plaintext, while the method of disguising (cover up) plaintext in order to hide\\nits substance is called \\xa0encryption.\\n8.Encrypted plaintext is known as cipher text and process of reverting the encrypted\\ndata back to plain text is known as \\xa0decryption.\\n9.The  science  of  analysing  and  breaking  secure  communication  is  known  as\\ncryptanalysis. The people who perform the same also known as attackers.\\n10.Cryptography can be either strong or weak and the strength is measured by the time\\nand resources it would require to recover the actual plaintext.\\n11.Hence an appropriate  decoding  tool is required  to decipher the strong encrypted\\nmessages.\\n12.As the computing power is increasing day by day, one has to make the encryption\\nalgorithms  very strong in order to protect data and critical  information from the\\nattackers.\\nComputer security \\nComputer security  is the protection that is set up for computer systems and keeps critical\\ninformation from unauthorized access, theft, or misuse.  It\\xa0is the process of preventing and\\ndetecting unauthorized use of our computer system.  Computer security \\xa0can be defined ascontrols that are put in place to provide confidentiality, integrity, and availability for all\\ncomponents of computer systems.  The components of a computer system that needs to be\\nprotected are:\\n\\uf0b7Hardware,\\xa0the physical part of the computer, like the system memory and disk drive\\n\\uf0b7Firmware,\\xa0permanent software that is etched into \\xa0a hardware device’s \\xa0non-volatile\\nmemory and is mostly invisible to the user\\n\\uf0b7Software,\\xa0the  programming  that  offers  services,  like \\xa0operating  system,  word\\nprocessor, internet browser to the user\\nComputer Security Challenges :\\n1.Security is not simple it requires a lot of research and money\\n2.Potential attacks on the security features need to be considered.\\n3.Procedures used to provide particular services are often counter-intuitive.\\n4.It is necessary to decide where to use the various security mechanisms.\\n5.Requires constant monitoring.\\n6.Security mechanisms typically involve more than a particular algorithm or protocol.\\n7.Security is essentially a battle of wits (intelligence) between a perpetrator ( person who\\ncarries out a harmful, illegal, or immoral act.)  and the designer.\\n8.Little benefit from security investment is perceived until a security failure occurs.\\n9.Strong security is often viewed as obstacle to efficient and user-friendly operation\\nInformation Security \\xa0 \\nIt  is not only about securing information from unauthorized  access. It is basically  the\\npractice  of  preventing  unauthorized  access,  use,  disclosure,  disruption,  modification,\\ninspection,  recording  or  destruction  of  information.  Information  can  be  physical  or\\nelectronic one. Information can be anything like our details or we can say our profile on\\nsocial media, our data in mobile phone, our biometrics etc. Thus, Information Security\\nspans  so many research areas  like Cryptography, Mobile Computing, Cyber Forensics,\\nOnline Social Media etc.\\nNetwork security \\nIt is a broad term that covers a multitude of technologies, devices and processes. In its\\nsimplest  term,  it  is  a  set  of  rules  and  configurations  designed  to  protect  the  integrity,\\nconfidentiality and accessibility of computer networks and data using both software and\\nhardware technologies.  Every organization,  regardless  of size,  industry or infrastructure,\\nrequires a degree of network security solutions \\xa0in place to protect it from the ever-growing\\nlandscape of cyber threats in the wild today.\\nNetwork  security  is  the  protection  of  the  underlying  networking  infrastructure  from\\nunauthorized access, misuse, or theft. It involves creating a secure infrastructure for devices,\\napplications, users, and applications to work in a secure manner.CIA Triad\\nThe CIA Triad is a well-known, venerable (respected) model for the development of security\\npolicies used in identifying problem areas, along with necessary solutions in the arena of\\ninformation security.\\nIn the information security (InfoSec) community, “CIA” has nothing to do with a certain\\nwell-recognized  US  intelligence  agency.  These  three  letters  stand  for  confidentiality,\\nintegrity, and availability, otherwise known as the CIA triad.\\nConfidentiality\\nIt\\'s crucial in today\\'s world for people to protect their sensitive, private information from\\nunauthorized access.\\nProtecting confidentiality is dependent on being able to define and enforce certain access\\nlevels for information. In some cases, doing this involves separating information into various\\ncollections that are organized by who needs access to the information and how sensitive that\\ninformation  actually  is  -  i.e.  the  amount  of  damage  suffered  if  the  confidentiality  was\\nbreached (break).\\nSome of the most common means used to manage confidentiality include access control lists,\\nvolume and file encryption, and UNIX file permissions.\\nIntegrity\\nData integrity is what the \"I\" in CIA Triad stands for. This is an essential component of the \\nCIA Triad and designed to protect data from deletion or modification from any unauthorized \\nparty, and it ensures that when an authorized person makes a change that should not have \\nbeen made the damage can be reversed.Availability\\nThis is the final component of the CIA Triad and refers to the actual availability of our data.\\nAuthentication mechanisms, access channels and systems all have to work properly for the\\ninformation they protect and ensure it is available when it is needed.\\nHigh  availability  systems  are  the  computing  resources  that  have  architectures  that  are\\nspecifically designed to improve availability. Based on the specific system design, this may\\ntarget hardware failures, upgrades or power outages to help improve availability, or it may\\nmanage several network connections to route around various network outages.\\nSecurity Goals\\nA security goal is a statement of the following form:\\nThe system shall prevent/detect \\xa0action\\xa0on/to/with\\xa0asset.\\nFor example, \"the system shall prevent theft of money\" and \"the system shall prevent\\nerasure  of  account  balances.\"  Each  goal  should  relate  to  confidentiality,  integrity,  or\\navailability, hence security goals are a kind of security property.\\nNote  that  security  goals  specify \\xa0what\\xa0the  system  should  prevent,  not \\xa0how\\xa0it  should\\naccomplish that prevention. Statements like \"the system shall use encryption to prevent\\nreading of messages\" and \"the system shall use authentication to verify user identities\" are\\nnot good security goals. These are implementation details that should not appear until later\\nin the software engineering process. Similarly, \"the system shall resist attacks\" is not a good\\nsecurity goal, because it fails to specify what in particular needs prevention.\\nIn reality, not all security goals are feasible to achieve. When designing a vault, we might\\nwant to prevent theft of money. But, no system can actually do that against a sufficiently\\nmotivated, resourceful, and capable threat. So we need to perform a \\xa0feasibility analysis \\xa0of\\nsecurity goals in light of the threats to the system.\\nCryptosystems\\n1.A cryptosystem is a structure or scheme consisting of a set of algorithms that converts\\nplaintext to ciphertext to encode or decode messages securely. \\n2.The term “cryptosystem” is shorthand for “cryptographic system” and refers to a\\ncomputer system that employs cryptography, a method of protecting information and\\ncommunications through the use of codes so that only those for whom the information\\nis intended can read and process it.\\n3.To  help  keep  data  secure,  cryptosystems  incorporate  the  algorithms  for  key\\ngeneration,\\xa0encryption\\xa0and decryption techniques. 4.At the heart of cryptographic operations is a cryptographic key, a string of bits used\\nby a cryptographic algorithm to transform plain text into ciphertext or the reverse. \\n5.The key is part of the variable data provided as input to a cryptographic algorithm to\\nexecute this sort of operation. \\n6.The cryptographic scheme’s security depends on the security of the keys used.\\n7.Cryptosystems are used for sending messages in a secure manner over the internet,\\nsuch as credit card information and other private data. \\n8.In another application of cryptography, a system for secure electronic mail might\\ninclude  methods  for  digital  signatures,  cryptographic \\xa0hash\\xa0functions  and\\xa0key\\nmanagement\\xa0techniques.\\n9.A  cryptosystem  is  an  implementation  of  cryptographic  techniques  and  their\\naccompanying infrastructure to provide information security services. \\n10.A cryptosystem is also referred to as a \\xa0cipher system.\\nLet  us  discuss  a  simple  model  of  a  cryptosystem  that  provides  confidentiality  to  the\\ninformation being transmitted. \\nThe illustration shows a sender who wants to transfer some sensitive data to a receiver in\\nsuch a way that any party intercepting or eavesdropping on the communication channel\\ncannot extract the data.\\nThe objective of this simple cryptosystem is that at the end of the process, only the sender\\nand the receiver will know the plaintext.\\nComponents of a Cryptosystem\\nThe various components of a basic cryptosystem are as follows −\\n\\uf0b7Plaintext :- It is the data to be protected during transmission.\\uf0b7Encryption Algorithm:- It is a mathematical process that produces a ciphertext for\\nany given plaintext and encryption key. A cryptographic algorithm takes plaintext and\\nan encryption key as input and produces a ciphertext.\\n\\uf0b7Ciphertext:- It is the scrambled version of the plaintext produced by the encryption\\nalgorithm using a specific the encryption key. The ciphertext is not guarded. It flows\\non public channel. It can be intercepted or compromised by anyone who has access to\\nthe communication channel.\\n\\uf0b7Decryption Algorithm:- It is a mathematical process, that produces a unique plaintext\\nfor  any  given  ciphertext  and  decryption  key.  A  cryptographic  algorithm  takes  a\\nciphertext and a decryption key as input, and outputs a plaintext. The decryption\\nalgorithm essentially reverses the encryption algorithm and is thus closely related to it.\\n\\uf0b7Encryption Key:- \\xa0It is a value that is known to the sender. The sender inputs the\\nencryption key into the encryption algorithm along with the plaintext in order to\\ncompute the ciphertext.\\n\\uf0b7Decryption Key:- \\xa0It is a value that is known to the receiver. The decryption key is\\nrelated to the encryption key, but is not always identical to it. The receiver inputs the\\ndecryption key into the decryption algorithm along with the ciphertext in order to\\ncompute the plaintext.\\nFor a given cryptosystem, a collection of all possible decryption keys is called a \\xa0key space.\\nAn  interceptor  (an  attacker)  is  an  unauthorized  entity  who  attempts  to  determine  the\\nplaintext.  He  can  see  the  ciphertext  and  may  know  the  decryption  algorithm.  He/she,\\nhowever, must never know the decryption key.\\nTypes of Cryptosystems\\nFundamentally,  there  are  two  types  of  cryptosystems  based  on  the  manner  in  which\\nencryption-decryption is carried out in the system −\\n\\uf0b7Symmetric Key Encryption\\n\\uf0b7Asymmetric Key Encryption\\nThe main difference between these cryptosystems is the relationship between the encryption\\nand the decryption key. Logically, in any cryptosystem, both the keys are closely associated.\\nIt is practically impossible to decrypt the ciphertext with the key that is unrelated to the\\nencryption key.\\nSymmetric Key Encryption\\nThe encryption process where  same keys are used for encrypting and decrypting \\xa0the\\ninformation is known as Symmetric Key Encryption.\\nThe  study  of  symmetric  cryptosystems  is  referred  to  as  symmetric  cryptography .\\nSymmetric cryptosystems are also sometimes referred to as secret key cryptosystems .\\nA few well-known examples of symmetric key encryption methods are − Digital Encryption\\nStandard (DES), Triple-DES (3DES), IDEA, and BLOWFISH.Prior  to  1970,  all  cryptosystems  employed  symmetric  key  encryption.  Even  today,  its\\nrelevance is very high and it is being used extensively in many cryptosystems. It is very\\nunlikely that this encryption will fade away, as it has certain advantages over asymmetric key\\nencryption.\\nThe major features of cryptosystem based on symmetric key encryption are −\\n\\uf0b7Persons using symmetric key encryption must share a common key prior to exchange\\nof information.\\n\\uf0b7Keys are recommended to be changed regularly to prevent any attack on the system.\\n\\uf0b7A  robust  (strong)  mechanism  needs  to  exist  to  exchange  the  key  between  the\\ncommunicating parties. As keys are required to be changed regularly, this mechanism\\nbecomes expensive and unmanageable.\\n\\uf0b7In a group of n people, to enable two-party communication between any two persons,\\nthe number of keys required for group is \\xa0n × (n – 1)/2.\\n\\uf0b7Length of Key (number of bits) in this encryption is smaller and hence, process of\\nencryption-decryption is faster than asymmetric key encryption.\\n\\uf0b7Processing power of computer system required to run symmetric algorithm is less.\\nChallenge of Symmetric Key Cryptosystem\\nThere are two restrictive challenges of employing symmetric key cryptography.\\n\\uf0b7Key establishment \\xa0− Before any communication, both the sender and the receiver\\nneed to  agree on a  secret symmetric  key. It requires  a secure  key establishment\\nmechanism in place.\\n\\uf0b7Trust Issue\\xa0− Since the sender and the receiver use the same symmetric key, there is\\nan  implicit  requirement  that  the  sender  and  the  receiver  ‘trust’  each  other.  For\\nexample, it may happen that the receiver has lost the key to an attacker and the sender\\nis not informed.\\nThese two challenges are highly restraining for modern day communication. Today, people\\nneed to exchange information with non-familiar and non-trusted parties. For example, a\\ncommunication between online seller and customer. These limitations  of symmetric  key\\nencryption gave rise to asymmetric key encryption schemes.Asymmetric Key Encryption\\nThe encryption process where \\xa0different keys are used for encrypting and decrypting the\\ninformation\\xa0is known as Asymmetric Key Encryption. Though the keys are different, they\\nare mathematically related and hence, retrieving the plaintext by decrypting ciphertext is\\nfeasible. The process is depicted in the following illustration −\\nAsymmetric Key Encryption was invented in the 20th\\xa0century to come over the necessity of\\npre-shared secret key between communicating persons. The salient features of this encryption\\nscheme are as follows −\\n\\uf0b7Every  user  in  this  system  needs  to  have  a  pair  of  dissimilar  keys, \\xa0private\\nkey\\xa0and\\xa0public key. These keys are mathematically related − when one key is used for\\nencryption, the other can decrypt the ciphertext back to the original plaintext.\\n\\uf0b7It requires to put the public key in public repository and the private key as a well-\\nguarded  secret.  Hence,  this  scheme  of  encryption  is  also  called \\xa0Public  Key\\nEncryption.\\n\\uf0b7Though public and private keys of the user are related, it is computationally not\\nfeasible to find one from another. This is a strength of this scheme.\\n\\uf0b7When\\xa0Host1\\xa0needs to send data to \\xa0Host2,\\xa0he obtains the public key of \\xa0Host2\\xa0from\\nrepository, encrypts the data, and transmits.\\n\\uf0b7Host2\\xa0uses his private key to extract the plaintext.\\n\\uf0b7Length of Keys (number of bits) in this encryption is large and hence, the process of\\nencryption-decryption is slower than symmetric key encryption.\\n\\uf0b7Processing power of computer system required to run asymmetric algorithm is higher.\\nSymmetric cryptosystems are a natural concept. In contrast, public-key cryptosystems are\\nquite difficult to comprehend.\\nPrivate Key  :\\xa0In the Private key, the same key (secret key) is used for encryption and\\ndecryption. In this key is symmetric because the only key is copied or shared by another\\nparty to decrypt the cipher text. It is faster than public-key cryptography. \\xa0\\nPublic Key  :\\xa0In a Public key, two keys are used one key is used for encryption and another\\nkey is used for decryption. One key (public key) is used to encrypt the plain text to convert\\nit into cipher text and another key (private key) is used by the receiver to decrypt the cipher\\ntext to read the message. Now, we see the difference between them:\\nS.NOPrivate Key Public Key\\n1.The  private  key  is  faster  than  the\\npublic key. It is slower than a private key.S.NOPrivate Key Public Key\\n2.In this, the same key (secret key) and\\nalgorithm  are  used  to  encrypt  and\\ndecrypt the message.In public-key cryptography, two keys are\\nused, one key is used for encryption, and\\nthe other is used for decryption.\\n3.In private key cryptography, the key\\nis kept a secret.In public-key cryptography, one of the two\\nkeys is kept a secret.\\n4.The  private  key\\nis\\xa0Symmetrical\\xa0because there is only\\none key that is called a secret key.The  public  key  is \\xa0Asymmetrical\\xa0because\\nthere  are  two  types  of  keys:  private  and\\npublic keys.\\n5.In this cryptography, the sender and\\nreceiver need to share the same key.In  this  cryptography,  the  sender  and\\nreceiver do not need to share the same key.\\n6.In  this  cryptography,  the  key  is\\nprivate.In this cryptography, the public key can be\\npublic and a private key is private.\\n7.It is an efficient technology. It is an inefficient technology.\\n8.It is used for large amounts of text. It is used for only short messages.\\n9.There is the possibility of losing the\\nkey that renders the systems void.There is less possibility of key loss, as the\\nkey is held publicly.\\nChallenge of Public Key Cryptosystem\\nPublic-key cryptosystems have one significant challenge − the user needs to trust that the\\npublic key that he is using in communications with a person really is the public key of that\\nperson and has not been spoofed by a malicious third party.\\nThis is usually accomplished through a Public Key Infrastructure (PKI) consisting a trusted\\nthird party. The third party securely manages and attests to the authenticity of public keys.\\nWhen the third party is requested to provide the public key for any communicating person X,\\nthey are trusted to provide the correct public key.\\nThe third party satisfies itself about user identity by the process of attestation, notarization, or\\nsome other process − that X is the one and only, or globally unique, X. The most common\\nmethod of making the verified public keys available is to embed them in a certificate which is\\ndigitally signed by the trusted third party.\\nCryptanalysis\\nCryptology\\xa0has two parts namely, \\xa0Cryptography\\xa0which focuses on creating secret codes\\nand\\xa0Cryptanalysis\\xa0which is the study of the cryptographic algorithm and the breaking ofthose secret codes. The person practicing Cryptanalysis is called a \\xa0Cryptanalyst. It helps\\nus to better understand the cryptosystems and also helps us improve the system by finding\\nany weak point and thus work on the algorithm to create a more secure secret code. For\\nexample, a Cryptanalyst might try to decipher a ciphertext to derive the plaintext. It can\\nhelp us to deduce the plaintext or the encryption key.\\nParts Of Cryptology\\nTo determine  the weak points of a cryptographic  system, it is important  to attack  the\\nsystem. This attacks are called \\xa0Cryptanalytic attacks. \\xa0The attacks rely on nature of the\\nalgorithm and also knowledge of the general characteristics of the plaintext, i.e., plaintext\\ncan be a regular document written in English or it can be a code written in Java. Therefore,\\nnature of the plaintext should be known before trying to use the attacks.\\nTypes of Cryptanalytic attacks :\\nThe Five Types of Cryptanalytic Attacks\\n\\uf0b7Known-Plaintext Analysis (KPA):\\nIn this type of attack, some plaintext-ciphertext pairs are already known. Attacker maps\\nthem  in  order  to  find  the  encryption  key.  This  attack  is  easier  to  use  as  a  lot  of\\ninformation is already available.\\n\\uf0b7Chosen-Plaintext Analysis (CPA) :\\nIn  this  type  of  attack,  the  attacker  chooses  random  plaintexts  and  obtains  the\\ncorresponding  ciphertexts  and  tries  to  find  the  encryption  key.  Its  very  simple  to\\nimplement like KPA but the success rate is quite low.\\n\\uf0b7Ciphertext-Only Analysis (COA) :\\nIn this type of attack, only some cipher-text is known and the attacker tries to find thecorresponding encryption key and plaintext. Its the hardest to implement but is the most\\nprobable attack as only ciphertext is required.\\n\\uf0b7Man-In-The-Middle (MITM) attack :\\nIn this type of attack, attacker intercepts the message/key between two communicating\\nparties through a secured channel.\\n\\uf0b7Adaptive Chosen-Plaintext Analysis (ACPA) :\\nThis attack is similar CPA. Here, the attacker requests the cipher texts of additional\\nplaintexts after they have ciphertexts for some texts.\\nSecurity Threats\\nThe  terms  threat, \\xa0vulnerability\\xa0and\\xa0weakness\\xa0are  often  used  in  cyber  security.\\nUnderstanding the difference between these terms is important. It allows organizations to\\ncorrectly implement, document and assess their cyber security activities and controls. Here,\\nwe take a closer look at security threats.\\nA threat is a potential violation of security and causes harm. A threat can be a malicious\\nprogram, a natural disaster or a thief. Vulnerability is a weakness of system that is left\\nunprotected. Systems that are vulnerable are exposed to threats. Threat is a possible danger\\nthat might exploit vulnerability; the actions that cause it to occur are the security attacks.\\nSecurity Attack\\nAttack\\xa0is a deliberate unauthorized action on a system or asset. An attack is an information\\nsecurity threat that involves an attempt to obtain, alter, destroy, remove, implant or reveal\\ninformation without authorized access or permission. These are the unauthorized or illegal\\nactions that are taken against the government, corporate, or private IT assets in order to\\ndestroy, modify, or steal the sensitive data.\\nAttacks can be classified as \\xa0active and passive attacks . An attack will have a motive and\\nwill follow a method when the opportunity arises. \\xa0\\nActive attacks\\nIn active attacks, the attacker intercepts the connection and efforts to modify the message\\'s\\ncontent. It is dangerous for integrity and availability of the message. Active attacks involve\\nMasquerade,  Modification  of message, Repudiation,  Replay, and Denial of service. The\\nsystem resources can be changed due to active attacks. So, the damage done with active\\nattacks can be harmful to the system and its resources.\\nReplay\\xa0− Replay contains the passive capture of an information unit and its consecutive\\nretransmission to create an unauthorized development.Masquerade\\xa0− A masquerade creates place when one entity impersonate to be a various\\nentity. A masquerade attack generally involves one of the multiple forms of active attack.\\nFor instance, authentication array can be captured and replayed after a true authentication\\narray has taken place, therefore allowing an authorized entity with some privileges to acquire\\nmore privileges by imitate an entity that has those privileges.\\nModification of messages \\xa0− Modification of message simply defines that some portion of a\\nlegitimate message is transformed, or that messages are held up or reordered, to make an\\nunauthorized effect.\\nDenial of Service\\xa0− The denial of service avoids or prevent the general use or administration\\nof communications facilities. This attack can have a definite focus. For instance, an entity\\ncan suppress some messages supervised to a specific destination.\\nAnother type of service denial is the division of an entire network, either by damaging the\\nnetwork or by overloading it with messages so as to corrupt performance.\\nIn the below image, we can see the process of active attacks.\\nIn active attacks, the victim gets notified about the attack. The implication of an active attack\\nis typically difficult and requires more effort. Active attacks can be prevented by using some\\ntechniques. We can try the below-listed measures to prevent these attacks -\\noUse of one-time password help in the authentication of the transactions between two\\nparties.\\noThere could be a generation of the random session key that will be valid for a single\\ntransaction.  It  should  prevent  the  malicious  user  from  retransmitting  the  actual\\ninformation once the session ends.\\nPassive attacksIn passive attacks, the attacker observes the messages, then copy and save them and can use it\\nfor malicious purposes. The attacker does not try to change the information or content he/she\\ngathered. Although passive attacks do not harm the system, they can be a danger for the\\nconfidentiality of the message.\\nThere are two method of passive attacks are release of message contents and traffic analysis.\\nThe  release  of  message  contents  is  simply  learn.  A  telephone  chat,  an  electronic  mail\\nmessage, and a transferred file can include sensitive or confidential data. It is like to avoid an\\nopponent from understanding the contents of these transmissions.\\nA second method of passive attack are traffic analysis. Assume that it is an approach of\\nhiding the contents of messages or some information traffic so that opponents, even if they\\nacquired the message, could not extract the data from the message.\\nThe general  approach  for masking contents  is encryption. If it can have an encryption\\nsecurity in area, an opponent can be able to find the duplicate of these messages.\\nThe opponent can decide the location and identity of broadcasting hosts and can detect the\\nfrequency and magnitude of messages being exchanged. This  data can be beneficial in\\nguessing the feature of the communication that was creating place.\\nIn the below image, we can see the process of passive attacks.\\nUnlike active attacks, in passive attacks, victims do not get informed about the attack. It is\\ndifficult to detect as there is no alteration in the message. Passive attacks can be prevented by\\nusing some encryption techniques. We can try the below-listed measures to prevent these\\nattacks -\\noWe  should  avoid  posting  sensitive  information  or  personal  information  online.\\nAttackers can use this information to hack your network.\\noWe should use the encryption method  for the messages  and make the messages\\nunreadable for any unintended intruder.Cryptographic Attacks\\nThe basic intention of an attacker is to break a cryptosystem and to find the plaintext from the\\nciphertext. To obtain the plaintext, the attacker only needs to find out the secret decryption\\nkey, as the algorithm is already in public domain.\\nHence,  he  applies  maximum  effort  towards  finding  out  the  secret  key  used  in  the\\ncryptosystem.  Once  the  attacker  is  able  to  determine  the  key,  the  attacked  system  is\\nconsidered as\\xa0broken\\xa0or\\xa0compromised.\\nBased on the methodology used, attacks on cryptosystems are categorized as follows −\\n\\uf0b7Ciphertext Only Attacks (COA) \\xa0− In this method, the attacker has access to a set of\\nciphertext(s). He does not have access to corresponding plaintext. COA is said to be\\nsuccessful when the corresponding plaintext can be determined from a given set of\\nciphertext.  Occasionally,  the  encryption  key  can  be  determined  from  this  attack.\\nModern cryptosystems are guarded against ciphertext-only attacks.\\n\\uf0b7Known Plaintext Attack (KPA) \\xa0− In this method, the attacker knows the plaintext\\nfor some parts of the ciphertext. The task is to decrypt the rest of the ciphertext using\\nthis information. This may be done by determining the key or via some other method.\\nThe best example of this attack is \\xa0linear cryptanalysis \\xa0against block ciphers.\\n\\uf0b7Chosen Plaintext Attack (CPA) \\xa0− In this method, the attacker has the text of his\\nchoice encrypted. So he has the ciphertext-plaintext pair of his choice. This simplifies\\nhis task of determining the encryption key. An example of this attack is \\xa0differential\\ncryptanalysis\\xa0applied against block ciphers as well as hash functions. A popular public\\nkey cryptosystem, RSA is also vulnerable to chosen-plaintext attacks.\\n\\uf0b7Dictionary Attack \\xa0− This attack has many variants, all of which involve compiling a\\n‘dictionary’.  In  simplest  method  of  this  attack,  attacker  builds  a  dictionary  of\\nciphertexts and corresponding plaintexts that he has learnt over a period of time. In\\nfuture,  when an  attacker  gets  the  ciphertext,  he  refers  the  dictionary  to  find the\\ncorresponding plaintext.\\n\\uf0b7Brute Force Attack (BFA) \\xa0− In this method, the attacker tries to determine the key\\nby attempting all possible keys. If the key is 8 bits long, then the number of possible\\nkeys is 28\\xa0= 256. The attacker knows the ciphertext and the algorithm, now he attempts\\nall the 256 keys one by one for decryption. The time to complete the attack would be\\nvery high if the key is long.\\n\\uf0b7Birthday Attack\\xa0− This attack is a variant of brute-force technique. It is used against\\nthe  cryptographic  hash  function.  When  students  in  a  class  are  asked  about  their\\nbirthdays, the answer is one of the possible 365 dates. Let us assume the first student\\'s\\nbirthdate is 3rd\\xa0Aug. Then to find the next student whose birthdate is 3rd\\xa0Aug, we need\\nto enquire 1.25*\\x81√365 ≈ 25 students.\\nSimilarly, if the hash function produces 64 bit hash values, the possible hash values\\nare 1.8x1019. By repeatedly evaluating  the function for different inputs, the same\\noutput is expected to be obtained after about 5.1x109\\xa0random inputs.\\nIf the attacker is able to find two different inputs that give the same hash value, it is\\na\\xa0collision\\xa0and that hash function is said to be broken.\\n\\uf0b7Man in Middle Attack (MIM) \\xa0− The targets of this attack are mostly public key\\ncryptosystems where key exchange is involved before communication takes place.\\noHost\\xa0A\\xa0wants to communicate to host \\xa0B, hence requests public key of \\xa0B.\\noAn attacker intercepts this request and sends his public key instead.\\noThus, whatever host \\xa0A\\xa0sends to host\\xa0B, the attacker is able to read.oIn order to maintain communication, the attacker re-encrypts the data after\\nreading with his public key and sends to \\xa0B.\\noThe attacker sends his public key as \\xa0A’s public key so that \\xa0B\\xa0takes it as if it is\\ntaking it from\\xa0A.\\n\\uf0b7Side Channel Attack (SCA) \\xa0− This type of attack is not against any particular type of\\ncryptosystem or algorithm. Instead, it is launched to exploit the weakness in physical\\nimplementation of the cryptosystem.\\n\\uf0b7Timing Attacks\\xa0− They exploit the fact that different computations take different\\ntimes to compute on processor. By measuring such timings, it is be possible to know\\nabout a particular computation  the processor is carrying out. For example, if the\\nencryption takes a longer time, it indicates that the secret key is long.\\n\\uf0b7Power Analysis Attacks \\xa0− These attacks are similar to timing attacks except that the\\namount of power consumption is used to obtain information about the nature of the\\nunderlying computations.\\n\\uf0b7Fault analysis Attacks \\xa0− In these attacks, errors are induced in the cryptosystem and\\nthe attacker studies the resulting output for useful information.\\nSecurity Services:\\nA processing or communication service that enhances the security of the data processing\\nsystems and the information transfers of an organization. These services are intended to\\ncounter security attacks, and they make use of one or more security mechanisms to provide\\nthe service. Following are the five categories of these services:\\nAuth\\nentication:\\xa0The assurance that the communicating entity is the one that it claims to be.\\n\\uf0b7Peer Entity Authentication: \\xa0Used in association with a logical connection to provide\\nconfidence in the identity of the entities connected.\\n\\uf0b7Data-Origin Authentication: \\xa0In a connectionless transfer, provides assurance that\\nthe source of received data is as claimed.\\nData Confidentiality: \\xa0Protects data from unauthorized disclosure.\\nAccess Control:\\xa0The prevention of unauthorized use of a resource (i.e., this service controls\\nwho can have access to a resource, under what conditions access can occur, and what those\\naccessing the resource are allowed to do).Data Integrity:\\xa0The assurance that data received are exactly as sent by an authorized entity\\n(i.e., contain no modification, insertion, deletion, or replay).\\nNon-repudiation:\\xa0Protects against denial by one of the entities involved in a communication\\nof having participated in all or part of the communication.\\n\\uf0b7Proof of Origin:\\xa0Proof that the message was sent by the specified party.\\n\\uf0b7Proof of Delivery: \\xa0Proof that the message was received by the specified party.\\nSecurity Policies\\nSecurity policies are a formal set of rules which is issued by an organization to ensure that the\\nuser who are authorized to access company technology and information assets comply with\\nrules and guidelines related to the security of information. It is a written document in the\\norganization which is responsible for how to protect the organizations from threats and how\\nto handles them when they will occur. A security policy also considered to be a \"living\\ndocument\" which means that the document is never finished, but it is continuously updated as\\nrequirements of the technology and employee changes.\\nSecurity Mechanism\\nA process (or a device incorporating such a process) that is designed to detect, prevent, or\\nrecover from a security attack. The mechanisms are divided into those that are implemented\\nin a specific protocol layer, such as TCP or an application-layer protocol.\\n1.Encipherment:\\xa0Encipherment  is  hiding  or  covering  data  and  can  provide\\nconfidentiality. It makes use of mathematical algorithms to transform data into a form\\nthat is not readily intelligible. The transformation and subsequent recovery of the data\\ndepend  on  an  algorithm  and  zero  or  more  encryption  keys.  Cryptography  and\\nSteganography techniques are used for enciphering.2.Data integrity:\\xa0The data integrity mechanism appends a short check value to the data\\nwhich is created by a specific process from the data itself. The receiver receives the\\ndata and the check value. The receiver then creates a new check value from the\\nreceived data and compares the newly created check value with the one received. If\\nthe two check values match, the integrity of data is being preserved.\\n3.Digital Signature: \\xa0A digital signature is a way by which the sender can electronically\\nsign the data and the receiver can electronically verify it. The sender uses a process in\\nwhich the sender owns a private key related to the public key that he or she has\\nannounced publicly. The receiver uses the sender\\'s public key to prove the message is\\nindeed signed by the sender who claims to have sent the message.\\n4.Authentication exchange: \\xa0A mechanism intended to ensure the identity of an entity\\nby means of information exchange. The two entities exchange some messages to\\nprove their identity to each other. For example the three-way handshake in TCP.\\n5.Traffic padding:\\xa0The insertion of bits into gaps in a data stream to frustrate traffic\\nanalysis attempts.\\n6.Routing control:\\xa0Enables selection of particular physically secure routes for certain\\ndata and allows routing changes which means selecting and continuously changing\\ndifferent available routes between the sender and the receiver to prevent the attacker\\nfrom traffic analysis on a particular route.\\n7.Notarization:\\xa0The use of a trusted third party to control the communication between\\nthe two parties. It prevents repudiation. The receiver involves a trusted third party to\\nstore the request to prevent the sender from later denying that he or she has made such\\na request.\\n8.Access  Control:\\xa0A  variety  of  mechanisms  are  used  to  enforce  access  rights  to\\nresources/data owned by a system, for example, PINS, and passwords.\\nCryptography  \\xa0is the technique which is used for doing secure communication between two\\nparties in the public environment where unauthorized users and malicious attackers are\\npresent. In cryptography there are two processes i.e. encryption and decryption performed\\nat  sender  and  receiver  end  respectively.  Encryption  is  the  processes  where  a  simple\\nmultimedia data is combined with some additional data (known as key) and converted into\\nunreadable encoded format known as Cipher. Decryption is the reverse method as that of\\nencryption where the same or different additional data (key) is used to decode the cipher\\nand it is converted in to the real multimedia data.\\nCryptography techniques can be categorized according to their basic principles or protocols\\nthey  follow.  But  here  we  are  going  to  concentrate  on  the  two  types  of  cryptography\\ntechnique:\\xa0Classical Cryptography \\xa0and\\xa0Quantum Cryptography . \\nClassical Cryptography:\\nClassical cryptography is based on the mathematics  and it relies  on the computational\\ndifficulty of factorizing large number. The security of classical cryptography is based on\\nthe high complexity of the mathematical problem for the instance factorization of large\\nnumber.\\nIn the classical cryptography the original data i.e., the plain text is transformed into the\\nencoded  format  i.e.  cipher  text  so  that  we  can  transmit  this  data  through  insecure\\ncommunication  channels.  A  data  string  which  known  as  key  is  used  to  control  the\\ntransformation of the data from plain text to cipher text. This arrangement helps to keepdata safe as it required the key for extracting the original information from the cipher text.\\nWithout the key no one can read the data. In this technique it is assumed that the only\\nauthorized receiver has the key.\\nClassical Cryptography has two types of techniques:\\n1.Symmetric Cryptography:\\nIn the symmetric cryptography a single key is used for encrypting and decryption the\\ndata.  This  encryption  key  is  private  key.  This  is  the  limitation  of  this  encryption\\ntechnique that this private key must be distributed only among the authorized sender\\nand receiver.\\n2.Asymmetric Cryptography:\\nIn the asymmetric cryptography a pair of key, i.e., public key and private key is used for\\nencryption and decryption. A sender can use its public key to encrypt the data and on\\nreceiver end receiver can decrypt the data by using its private key. This technique\\novercomes the problem of key distribution.Advantages of Classical Cryptography:\\n\\uf0b7While employing the one-time pad, it is unbreakable.\\n\\uf0b7It is easy to do manually, no computer required.\\n\\uf0b7It protects the plain text from casual snooping.\\nDisadvantages of Classical Cryptography:\\n\\uf0b7While  employing  the  one-time  pad,  it  is  cumbersome  and  requires  a  personal\\nmeetup to exchange the pads.\\n\\uf0b7If not employing the OTP, anyone who is even remotely interested in knowing what\\nyou wrote and knows about cryptography will be able to break the encryption.\\n3.Quantum Cryptography:\\nQuantum Cryptography is based on physics and it relies on the laws of quantum\\nmechanics. It is arising technology which emphasizes the phenomena of quantum\\nphysics  in  which  two  parties  can  have  secure  communication  based  on  the\\ninvariabilities of the laws of the quantum mechanics. Quantum mechanics is the\\nmathematical framework or set of rules for the construction of physical theories.\\nThere are two important elements of quantum mechanics on which quantum cryptography\\ndepends:\\xa0Heisenberg  Uncertainty  Principle \\xa0and\\xa0Photon  Polarization  Principle .  These\\nare:\\n1.Heisenberg Uncertainty Principle:\\nThis principle says that if we measure one thing, we cannot measure another thingaccurately.  For example,  if we apply this principle to human, we could measure a\\nperson’s  height,  but  we  can’t  measure  his  weight.  The  only  odd  thing  about  this\\nprinciple  is  that  it  becomes  true  only  for  the  instant  at  which  we  try  to  measure\\nsomething. This principle is applied to the photons. Photons have wave like structure\\nand are polarized or tilted in certain direction. While measuring photon polarization, all\\nsubsequent measurements are get affected by the choice of measures that we made for\\npolarization. This principle plays the vital role to prevent the efforts of attacker in\\nquantum cryptography.\\n2.Photon Polarization Principle:\\nThis principle refers that; an eavesdropper cannot copy the unique quantum bits, i.e.,\\nunknown quantum state, due to the no-cloning principle. If an attempt is made for\\nmeasuring any properties, it will disturb the other information.\\nAdvantages of Quantum Cryptography:\\n\\uf0b7It establishes secure communication by providing security based on fundamental laws\\nof physics instead of mathematical algorithms or computing technologies used today.\\n\\uf0b7It is virtually un-hack able.\\n\\uf0b7It is simple to use.\\n\\uf0b7Less resources are needed in order to maintain it.\\n\\uf0b7It is used to detect eavesdropping in QKD (Quantum Key Distribution). This is due to\\nthe fact that it is not possible to copy the data encoded in quantum state.\\n\\uf0b7The performance of such cryptography systems is continuously improved.\\nDisadvantages of Quantum Cryptography:\\n\\uf0b7The worldwide implementation of this can take up lots of jobs and hence unemployment\\nwill increase.\\n\\uf0b7While traveling through the channel polarization of photon may change due to various\\ncauses.\\n\\uf0b7Quantum cryptography lacks many vital features such as digital signature, certified mail\\netc.\\n\\uf0b7The largest distance supported by QKD is about 250 KM at a speed of 16 bps through\\nguided medium.'"
      ]
     },
     "execution_count": 9,
     "metadata": {},
     "output_type": "execute_result"
    }
   ],
   "source": [
    "pdf_context"
   ]
  },
  {
   "cell_type": "code",
   "execution_count": 10,
   "metadata": {},
   "outputs": [],
   "source": [
    "test_questions = [\n",
    "    'What is Cryptography ?',\n",
    "    'What is encryption ?',\n",
    "]"
   ]
  },
  {
   "cell_type": "code",
   "execution_count": 11,
   "metadata": {},
   "outputs": [
    {
     "name": "stdout",
     "output_type": "stream",
     "text": [
      "Question: What is Cryptography ?\n",
      "Answer: {'answer': ' technique  of securing information  and communications  through use of\\ncodes', 'prob_score': 0.6295348554849625}\n",
      "Question: What is encryption ?\n",
      "Answer: {'answer': ' technique  of securing information  and communications  through use of\\ncodes so that only those person for whom the information is intended can understand it and\\nprocess it. Thus, preventing unauthorized access to information', 'prob_score': 0.3868671804666519}\n"
     ]
    }
   ],
   "source": [
    "for question in test_questions:\n",
    "    # Print the result\n",
    "    print(f\"Question: {question}\")\n",
    "    print(f\"Answer: {getAnswer(question=question, context=reader.pages[0].extract_text()[:1000])}\")\n"
   ]
  },
  {
   "cell_type": "markdown",
   "metadata": {},
   "source": [
    "### Sliding window approach"
   ]
  },
  {
   "cell_type": "code",
   "execution_count": 12,
   "metadata": {},
   "outputs": [
    {
     "data": {
      "text/plain": [
       "'Unit 1\\nIntroduction to Cryptography\\nCryptography\\nCryptography\\xa0is technique  of securing information  and communications  through use of\\ncodes so that only those person for whom the information is intended can understand it and\\nprocess it. Thus, preventing unauthorized access to information is known as cryptography.\\nThe prefix “crypt” means “hidden” and suffix graphy means “writing”.\\n1.In Cryptography, the techniques, which are used to protect information, are obtained\\nfrom  mathematical  concepts  and  a  set  of  rule  based  calculations  known  as\\nalgorithms to convert messages in ways that make it hard to decode it. \\n2.Algorithms are used for cryptographic key generation, digital signing, verification to\\nprotect  data  privacy,  web  browsing  on  internet  and  to  protect  confidential\\ntransactions such as credit card and debit card transactions.\\n3.Cryptography is associated with the process of converting ordinary plain text into\\nunintelligible text and vice-versa. \\n4.It is a method of storing and transmitting data in a particular form so that only those for\\nwhom it is intended can read and process it. \\n5.Cryptography not only protects data from theft or alteration, but can also be used for\\nuser authentication.\\n6.Cryptography is the science to encrypt and decrypt data that enables the users to store\\nsensitive information or transmit it across insecure networks so that it can be read\\nonly by the intended recipient.\\n7.Data  which  can  be  read  and  understood  without  any  special  measures  is\\ncalled\\xa0plaintext, while the method of disguising (cover up) plaintext in order to hide\\nits substance is called \\xa0encryption.\\n8.Encrypted plaintext is known as cipher text and process of reverting the encrypted\\ndata back to plain text is known as \\xa0decryption.\\n9.The  science  of  analysing  and  breaking  secure  communication  is  known  as\\ncryptanalysis. The people who perform the same also known as attackers.\\n10.Cryptography can be either strong or weak and the strength is measured by the time\\nand resources it would require to recover the actual plaintext.\\n11.Hence an appropriate  decoding  tool is required  to decipher the strong encrypted\\nmessages.\\n12.As the computing power is increasing day by day, one has to make the encryption\\nalgorithms  very strong in order to protect data and critical  information from the\\nattackers.\\nComputer security \\nComputer security  is the protection that is set up for computer systems and keeps critical\\ninformation from unauthorized access, theft, or misuse.  It\\xa0is the process of preventing and\\ndetecting unauthorized use of our computer system.  Computer security \\xa0can be defined as'"
      ]
     },
     "execution_count": 12,
     "metadata": {},
     "output_type": "execute_result"
    }
   ],
   "source": [
    "reader.pages[0].extract_text()"
   ]
  },
  {
   "cell_type": "markdown",
   "metadata": {},
   "source": [
    "#### Segmentation"
   ]
  },
  {
   "cell_type": "code",
   "execution_count": 13,
   "metadata": {},
   "outputs": [],
   "source": [
    "def to_segments(content:str, max_lines:int = 30)->list[str]:\n",
    "    lines = content.split('\\n')\n",
    "    chunks = []\n",
    "    current_chunk = []\n",
    "    current_chunk_len = 0\n",
    "\n",
    "    for line in lines:\n",
    "        current_chunk.append(line)\n",
    "        current_chunk_len += 1\n",
    "        if(current_chunk_len >= max_lines):\n",
    "            chunks.append('\\n'.join(current_chunk))\n",
    "            current_chunk = []\n",
    "\n",
    "    if current_chunk:\n",
    "        chunks.append('\\n'.join(current_chunk))\n",
    "\n",
    "    return chunks\n"
   ]
  },
  {
   "cell_type": "code",
   "execution_count": 14,
   "metadata": {},
   "outputs": [],
   "source": [
    "pdf_segments = to_segments(pdf_context)"
   ]
  },
  {
   "cell_type": "code",
   "execution_count": 15,
   "metadata": {},
   "outputs": [],
   "source": [
    "question = 'What is Man-In-The-Middle attack ?'\n",
    "answers = []\n",
    "for segment in pdf_segments:\n",
    "    ans = getAnswer(question=question, context=segment)\n",
    "    if (ans['answer']):\n",
    "        answers.append(ans)"
   ]
  },
  {
   "cell_type": "code",
   "execution_count": 16,
   "metadata": {},
   "outputs": [
    {
     "name": "stdout",
     "output_type": "stream",
     "text": [
      "Question: What is Man-In-The-Middle attack ?\n",
      "Answer: {'answer': 'What is Man-In-The-Middle attack?\\uf0b7It is virtually un-hack able', 'prob_score': 0.42718422412872314}\n"
     ]
    }
   ],
   "source": [
    "filtered_answers = [ans for ans in answers if ans[\"answer\"]]\n",
    "\n",
    "best_answer = max(filtered_answers, key=lambda x: x[\"prob_score\"])\n",
    "print(f\"Question: {question}\")\n",
    "print(f\"Answer: {best_answer}\")"
   ]
  },
  {
   "cell_type": "code",
   "execution_count": 17,
   "metadata": {},
   "outputs": [
    {
     "data": {
      "text/plain": [
       "[{'answer': ' the  attacker  chooses  random  plaintexts',\n",
       "  'prob_score': 0.38262370228767395},\n",
       " {'answer': 'MITM', 'prob_score': 0.373177170753479},\n",
       " {'answer': ' mostly public key', 'prob_score': 0.36386334896087646},\n",
       " {'answer': 'What is Man-In-The-Middle attack?\\uf0b7It is virtually un-hack able',\n",
       "  'prob_score': 0.42718422412872314}]"
      ]
     },
     "execution_count": 17,
     "metadata": {},
     "output_type": "execute_result"
    }
   ],
   "source": [
    "filtered_answers"
   ]
  },
  {
   "cell_type": "code",
   "execution_count": 18,
   "metadata": {},
   "outputs": [
    {
     "data": {
      "text/plain": [
       "{'answer': ' attacker intercepts the message/key between two communicating\\nparties through a secured channel',\n",
       " 'prob_score': 0.602444589138031}"
      ]
     },
     "execution_count": 18,
     "metadata": {},
     "output_type": "execute_result"
    }
   ],
   "source": [
    "getAnswer(question=question, context='''Man-In-The-Middle (MITM) attack :\n",
    "In this type of attack, attacker intercepts the message/key between two communicating\n",
    "parties through a secured channel.''')"
   ]
  },
  {
   "cell_type": "code",
   "execution_count": null,
   "metadata": {},
   "outputs": [],
   "source": []
  }
 ],
 "metadata": {
  "kernelspec": {
   "display_name": "myenv",
   "language": "python",
   "name": "python3"
  },
  "language_info": {
   "codemirror_mode": {
    "name": "ipython",
    "version": 3
   },
   "file_extension": ".py",
   "mimetype": "text/x-python",
   "name": "python",
   "nbconvert_exporter": "python",
   "pygments_lexer": "ipython3",
   "version": "3.12.3"
  }
 },
 "nbformat": 4,
 "nbformat_minor": 2
}
